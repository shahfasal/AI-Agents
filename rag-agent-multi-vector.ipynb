{
 "cells": [
  {
   "cell_type": "code",
   "execution_count": 1,
   "id": "704e0436",
   "metadata": {},
   "outputs": [],
   "source": [
    "from langchain_community.embeddings import HuggingFaceEmbeddings\n",
    "from langchain_postgres.vectorstores import PGVector\n",
    "from langchain.vectorstores import Qdrant\n",
    "from langchain_qdrant import QdrantVectorStore\n",
    "from langchain_community.chat_models import ChatOllama\n",
    "from langchain_core.output_parsers import JsonOutputParser\n",
    "from langchain_core.prompts import PromptTemplate\n",
    "from langchain_core.output_parsers import StrOutputParser\n",
    "from semantic_router import Route\n",
    "from semantic_router.encoders import HuggingFaceEncoder\n",
    "from semantic_router.layer import RouteLayer\n",
    "from langchain_community.tools.tavily_search import TavilySearchResults\n",
    "from langchain_text_splitters import RecursiveCharacterTextSplitter\n",
    "from langchain_community.document_loaders import DirectoryLoader\n",
    "import os"
   ]
  },
  {
   "cell_type": "code",
   "execution_count": 2,
   "id": "c1df470e",
   "metadata": {},
   "outputs": [],
   "source": [
    "os.environ[\"TAVILY_API_KEY\"] = \"api_key\"\n",
    "os.environ[\"LANGCHAIN_TRACING_V2\"] = \"true\"\n",
    "os.environ[\"LANGCHAIN_ENDPOINT\"] = \"https://api.smith.langchain.com\"\n",
    "os.environ[\"LANGCHAIN_API_KEY\"] = \"api_key\""
   ]
  },
  {
   "cell_type": "code",
   "execution_count": 3,
   "id": "449c94d1",
   "metadata": {},
   "outputs": [
    {
     "name": "stderr",
     "output_type": "stream",
     "text": [
      "/Users/fashah/anaconda3/lib/python3.11/site-packages/langchain_core/_api/deprecation.py:139: LangChainDeprecationWarning: The class `HuggingFaceEmbeddings` was deprecated in LangChain 0.2.2 and will be removed in 0.3.0. An updated version of the class exists in the langchain-huggingface package and should be used instead. To use it run `pip install -U langchain-huggingface` and import as `from langchain_huggingface import HuggingFaceEmbeddings`.\n",
      "  warn_deprecated(\n",
      "/Users/fashah/anaconda3/lib/python3.11/site-packages/pandas/core/arrays/masked.py:60: UserWarning: Pandas requires version '1.3.6' or newer of 'bottleneck' (version '1.3.5' currently installed).\n",
      "  from pandas.core import (\n",
      "/Users/fashah/anaconda3/lib/python3.11/site-packages/huggingface_hub/file_download.py:1132: FutureWarning: `resume_download` is deprecated and will be removed in version 1.0.0. Downloads always resume when possible. If you want to force a new download, use `force_download=True`.\n",
      "  warnings.warn(\n"
     ]
    }
   ],
   "source": [
    "embeddings = HuggingFaceEmbeddings(\n",
    "            model_name=\"BAAI/bge-large-en-v1.5\",\n",
    "            model_kwargs = {'device': 'mps'})"
   ]
  },
  {
   "cell_type": "code",
   "execution_count": 4,
   "id": "c3b1e6a6",
   "metadata": {},
   "outputs": [],
   "source": [
    "loader = DirectoryLoader('./data/pg/', glob=\"./*.txt\")\n",
    "\n",
    "documents = loader.load()\n"
   ]
  },
  {
   "cell_type": "code",
   "execution_count": 5,
   "id": "6e74ff31",
   "metadata": {},
   "outputs": [],
   "source": [
    "text_splitter = RecursiveCharacterTextSplitter(chunk_size=500, chunk_overlap=20)\n",
    "docs = text_splitter.split_documents(documents)"
   ]
  },
  {
   "cell_type": "code",
   "execution_count": 6,
   "id": "ae1826bb",
   "metadata": {},
   "outputs": [
    {
     "data": {
      "text/plain": [
       "[Document(page_content='# API Documentation ## Authentication To authenticate using the API, you need to include your API key in the request headers. The API key should be provided to you when you create an account. Example: ``` GET /api/v1/resource Headers: Authorization: Bearer YOUR_API_KEY ```', metadata={'source': 'data/pg/software_development_data.txt'}),\n",
       " Document(page_content='## Endpoints ### getUser The `getUser` endpoint retrieves user information based on the user ID. Required parameters: - user_id (string): The unique identifier for the user. Example: ``` GET /api/v1/user/{user_id} Headers: Authorization: Bearer YOUR_API_KEY ```', metadata={'source': 'data/pg/software_development_data.txt'}),\n",
       " Document(page_content='### createUser The `createUser` endpoint creates a new user in the system. Required parameters: - name (string): The name of the user. - email (string): The email address of the user. Example: ``` POST /api/v1/user Headers: Authorization: Bearer YOUR_API_KEY Body: { \"name\": \"John Doe\", \"email\": \"john.doe@example.com\" } ```', metadata={'source': 'data/pg/software_development_data.txt'}),\n",
       " Document(page_content='# Technical Guides ## How to Set Up a Development Environment To set up a development environment, you need to install the following tools: 1. Python (version 3.8 or higher) 2. Git 3. Docker 4. VS Code (or any other code editor of your choice)', metadata={'source': 'data/pg/software_development_data.txt'}),\n",
       " Document(page_content='### Step-by-Step Instructions 1. **Install Python**: Download and install Python from the official website. 2. **Install Git**: Download and install Git from the official website. 3. **Install Docker**: Download and install Docker from the official website. 4. **Set Up VS Code**: Download and install Visual Studio Code from the official website. Install necessary extensions for Python development.', metadata={'source': 'data/pg/software_development_data.txt'})]"
      ]
     },
     "execution_count": 6,
     "metadata": {},
     "output_type": "execute_result"
    }
   ],
   "source": [
    "docs[:5]"
   ]
  },
  {
   "cell_type": "code",
   "execution_count": 7,
   "id": "2de0d16f",
   "metadata": {},
   "outputs": [],
   "source": [
    "connection = \"postgresql://url_here\"  # Uses psycopg3!\n",
    "collection_name = \"medium-pg-data\"\n",
    "vector_store = PGVector(\n",
    "        connection=connection, \n",
    "        collection_name=collection_name, \n",
    "        embeddings=embeddings\n",
    "    )"
   ]
  },
  {
   "cell_type": "code",
   "execution_count": 16,
   "id": "f306adcc",
   "metadata": {},
   "outputs": [
    {
     "data": {
      "text/plain": [
       "['87393379-ff6e-4311-8adf-00a1bb675db2',\n",
       " 'ed9bd8dc-0144-46ac-85d6-c5359a4686d9',\n",
       " 'd5a5e92a-6d9a-43ab-9cbf-a5e7682105cb',\n",
       " '946b26ce-74ef-4cb8-9f15-4cbbee75eaac',\n",
       " '65032de7-00ad-4292-8ee2-13e00eccfbc8',\n",
       " '7e0c7cc8-bd9b-408d-80cc-c41bc9c7d665',\n",
       " '7b2c8640-f515-480c-9d00-86947bbc396e']"
      ]
     },
     "execution_count": 16,
     "metadata": {},
     "output_type": "execute_result"
    }
   ],
   "source": [
    "vector_store.add_documents(docs)"
   ]
  },
  {
   "cell_type": "code",
   "execution_count": 8,
   "id": "0d43eea8",
   "metadata": {},
   "outputs": [
    {
     "data": {
      "text/plain": [
       "[Document(page_content='# API Documentation ## Authentication To authenticate using the API, you need to include your API key in the request headers. The API key should be provided to you when you create an account. Example: ``` GET /api/v1/resource Headers: Authorization: Bearer YOUR_API_KEY ```', metadata={'source': '/Users/fashah/Downloads/medium-test-data/pg/software_development_data.txt'})]"
      ]
     },
     "execution_count": 8,
     "metadata": {},
     "output_type": "execute_result"
    }
   ],
   "source": [
    "pg_retriever = vector_store.as_retriever(search_kwargs={\"score_threshold\": 0.5,\"k\": 1})\n",
    "pg_docs = pg_retriever.invoke(\"How do I authenticate using the API?\")\n",
    "pg_docs"
   ]
  },
  {
   "cell_type": "code",
   "execution_count": 18,
   "id": "3a69aec0",
   "metadata": {},
   "outputs": [],
   "source": [
    "loader = DirectoryLoader('./data/qdrnt/', glob=\"./*.txt\")\n",
    "\n",
    "documents = loader.load()"
   ]
  },
  {
   "cell_type": "code",
   "execution_count": 19,
   "id": "d794e1f9",
   "metadata": {},
   "outputs": [],
   "source": [
    "text_splitter = RecursiveCharacterTextSplitter(chunk_size=500, chunk_overlap=20)\n",
    "qd_docs = text_splitter.split_documents(documents)"
   ]
  },
  {
   "cell_type": "code",
   "execution_count": 20,
   "id": "5b594378",
   "metadata": {},
   "outputs": [],
   "source": [
    "qdrant_vector_store = QdrantVectorStore.from_documents(\n",
    "    qd_docs,\n",
    "    embeddings,\n",
    "    location=\":memory:\",  # Local mode with in-memory storage only\n",
    "    collection_name=\"medium-qdrnt-data\",\n",
    ")\n"
   ]
  },
  {
   "cell_type": "code",
   "execution_count": 21,
   "id": "858793d1",
   "metadata": {},
   "outputs": [
    {
     "data": {
      "text/plain": [
       "[Document(page_content='# Return Policy Our return policy allows you to return products within 30 days of purchase. The items must be in their original condition and packaging. To initiate a return, please contact our customer service team with your order details.\\n\\n## Return Process 1. Contact customer service to request a return authorization. 2. Pack the items securely in the original packaging. 3. Include the return authorization slip in the package. 4. Ship the package to the provided address.', metadata={'source': 'data/qdrnt/customer_service_faqs.txt'}),\n",
       " Document(page_content='## Refund Policy Refunds will be processed within 7-10 business days after we receive the returned items. The refund will be issued to the original payment method.\\n\\n# Shipping Information We offer several shipping options to meet your needs. Shipping times and costs vary based on the selected option and your location.\\n\\n## Shipping Options\\n\\n1. *\\n\\nStandard Shipping*\\n\\n: 5\\n\\n7 business days.\\n\\n2. *\\n\\nExpedited Shipping*\\n\\n: 2\\n\\n3 business days.\\n\\n3. *\\n\\nOvernight Shipping*\\n\\n: 1 business day.', metadata={'source': 'data/qdrnt/customer_service_faqs.txt'})]"
      ]
     },
     "execution_count": 21,
     "metadata": {},
     "output_type": "execute_result"
    }
   ],
   "source": [
    "docs[:2]"
   ]
  },
  {
   "cell_type": "code",
   "execution_count": 22,
   "id": "6fdbd945",
   "metadata": {},
   "outputs": [
    {
     "data": {
      "text/plain": [
       "[Document(page_content='# Return Policy Our return policy allows you to return products within 30 days of purchase. The items must be in their original condition and packaging. To initiate a return, please contact our customer service team with your order details.\\n\\n## Return Process 1. Contact customer service to request a return authorization. 2. Pack the items securely in the original packaging. 3. Include the return authorization slip in the package. 4. Ship the package to the provided address.', metadata={'source': 'data/qdrnt/customer_service_faqs.txt', '_id': '0d8f58a1e232411e893e44382f537f8c', '_collection_name': 'medium-qdrnt-data'})]"
      ]
     },
     "execution_count": 22,
     "metadata": {},
     "output_type": "execute_result"
    }
   ],
   "source": [
    "qdrnt_retriever = qdrant_vector_store.as_retriever(search_kwargs={\"score_threshold\": 0.5,\"k\": 1})\n",
    "qd_docs = qdrnt_retriever.invoke(\"What is your return policy?\")\n",
    "qd_docs"
   ]
  },
  {
   "cell_type": "code",
   "execution_count": 23,
   "id": "4da7c7c2",
   "metadata": {},
   "outputs": [],
   "source": [
    "local_llm = \"llama3\"\n",
    "llm = ChatOllama(model=local_llm, format=\"json\", temperature=0)\n"
   ]
  },
  {
   "cell_type": "code",
   "execution_count": 24,
   "id": "097c895e",
   "metadata": {},
   "outputs": [],
   "source": [
    "tech_doc_route = Route(\n",
    "    name=\"tech_doc\",\n",
    "    utterances=[\n",
    "        \"How do I authenticate using the API?\",\n",
    "        \"What are the required parameters for the getUser endpoint?\",\n",
    "        \"Can you provide an example of a POST request in Python?\",\n",
    "        \"How do I set up a development environment?\",\n",
    "        \"What is the usage of the createUser endpoint?\",\n",
    "        \"How do I install Python on my machine?\",\n",
    "    ],\n",
    ")"
   ]
  },
  {
   "cell_type": "code",
   "execution_count": 25,
   "id": "3515102b",
   "metadata": {},
   "outputs": [],
   "source": [
    "customer_service_route = Route(\n",
    "    name=\"customer_service\",\n",
    "    utterances=[\n",
    "        \"What is your return policy?\",\n",
    "        \"How long does shipping take?\",\n",
    "        \"How do I reset my password?\",\n",
    "        \"How do I track my order?\",\n",
    "        \"How do I contact customer service?\",\n",
    "        \"How do I update my account information?\",\n",
    "    ],\n",
    ")\n"
   ]
  },
  {
   "cell_type": "code",
   "execution_count": 26,
   "id": "92b8c8de",
   "metadata": {},
   "outputs": [],
   "source": [
    "routes = [tech_doc_route,customer_service_route]"
   ]
  },
  {
   "cell_type": "code",
   "execution_count": 27,
   "id": "364f6e5c",
   "metadata": {},
   "outputs": [],
   "source": [
    "encoder = HuggingFaceEncoder(name=\"BAAI/bge-large-en-v1.5\")"
   ]
  },
  {
   "cell_type": "code",
   "execution_count": 28,
   "id": "961928a2",
   "metadata": {},
   "outputs": [],
   "source": [
    "rl = RouteLayer(encoder=encoder, routes=routes)"
   ]
  },
  {
   "cell_type": "code",
   "execution_count": 29,
   "id": "407ba738",
   "metadata": {},
   "outputs": [
    {
     "data": {
      "text/plain": [
       "RouteChoice(name='tech_doc', function_call=None, similarity_score=None)"
      ]
     },
     "execution_count": 29,
     "metadata": {},
     "output_type": "execute_result"
    }
   ],
   "source": [
    "rl(\"What is the process to log in using the API?\")"
   ]
  },
  {
   "cell_type": "code",
   "execution_count": 30,
   "id": "ee90ee1b",
   "metadata": {},
   "outputs": [],
   "source": [
    "### Retrieval Grader\n",
    "\n",
    "prompt = PromptTemplate(\n",
    "    template=\"\"\"<|begin_of_text|><|start_header_id|>system<|end_header_id|> You are a grader assessing relevance \n",
    "    of a retrieved document to a user question. If the document contains keywords related to the user question, \n",
    "    grade it as relevant. It does not need to be a stringent test. The goal is to filter out erroneous retrievals. \\n\n",
    "    Give a binary score 'yes' or 'no' score to indicate whether the document is relevant to the question. \\n\n",
    "    Provide the binary score as a JSON with a single key 'score' and no premable or explanation.\n",
    "     <|eot_id|><|start_header_id|>user<|end_header_id|>\n",
    "    Here is the retrieved document: \\n\\n {document} \\n\\n\n",
    "    Here is the user question: {question} \\n <|eot_id|><|start_header_id|>assistant<|end_header_id|>\n",
    "    \"\"\",\n",
    "    input_variables=[\"question\", \"document\"],\n",
    ")\n",
    "\n",
    "retrieval_grader = prompt | llm | JsonOutputParser()"
   ]
  },
  {
   "cell_type": "code",
   "execution_count": 31,
   "id": "ba97e46b",
   "metadata": {},
   "outputs": [],
   "source": [
    "### Hallucination Grader\n",
    "\n",
    "# LLM\n",
    "llm = ChatOllama(model=local_llm, format=\"json\", temperature=0)\n",
    "\n",
    "# Prompt\n",
    "prompt = PromptTemplate(\n",
    "    template=\"\"\" <|begin_of_text|><|start_header_id|>system<|end_header_id|> You are a grader assessing whether \n",
    "    an answer is grounded in / supported by a set of facts.Give a binary 'yes' or 'no' score to indicate \n",
    "    whether the answer is grounded in / supported by a set of facts. Provide the binary score as a JSON with a \n",
    "    single key 'score' and NO preamble or explanation. <|eot_id|><|start_header_id|>user<|end_header_id|>\n",
    "    Here are the facts:\n",
    "    \\n ------- \\n\n",
    "    {documents} \n",
    "    \\n ------- \\n\n",
    "    Here is the answer: {generation}  <|eot_id|><|start_header_id|>assistant<|end_header_id|>\"\"\",\n",
    "    input_variables=[\"generation\", \"documents\"],\n",
    ")\n",
    "\n",
    "hallucination_grader = prompt | llm | JsonOutputParser()"
   ]
  },
  {
   "cell_type": "code",
   "execution_count": 32,
   "id": "32f4f539",
   "metadata": {},
   "outputs": [],
   "source": [
    "### Answer Grader\n",
    "\n",
    "# LLM\n",
    "llm = ChatOllama(model=local_llm, format=\"json\", temperature=0)\n",
    "\n",
    "# Prompt\n",
    "prompt = PromptTemplate(\n",
    "    template=\"\"\"<|begin_of_text|><|start_header_id|>system<|end_header_id|> You are a grader assessing whether an \n",
    "    answer is useful to resolve a question. Give a binary score 'yes' or 'no' to indicate whether the answer is \n",
    "    useful to resolve a question. Provide the binary score as a JSON with a single key 'score' and no preamble or explanation.\n",
    "     <|eot_id|><|start_header_id|>user<|end_header_id|> Here is the answer:\n",
    "    \\n ------- \\n\n",
    "    {generation} \n",
    "    \\n ------- \\n\n",
    "    Here is the question: {question} <|eot_id|><|start_header_id|>assistant<|end_header_id|>\"\"\",\n",
    "    input_variables=[\"generation\", \"question\"],\n",
    ")\n",
    "\n",
    "answer_grader = prompt | llm | JsonOutputParser()"
   ]
  },
  {
   "cell_type": "code",
   "execution_count": 33,
   "id": "e3809bc9",
   "metadata": {},
   "outputs": [],
   "source": [
    "#generate answer\n",
    "prompt = PromptTemplate(\n",
    "    template=\"\"\"<|begin_of_text|><|start_header_id|>system<|end_header_id|> You are a helpful chatbot that can answer questions based on the provided context. \n",
    "    You need not use the entire context provided to you.\n",
    "    When interpreting general questions, you can rephrase the content without altering its meaning.\n",
    "    For questions that require steps, processes, or procedures, maintain the original content as closely as possible.\n",
    "    If the context includes Red Hat specific knowledge, include that in your answer.\n",
    "    Avoid repeating answers.<|eot_id|><|start_header_id|>user<|end_header_id|>\n",
    "    Question: {question} \n",
    "    Context: {context} \n",
    "    ### If the question demands steps or a list of points, guide the model to respond accordingly:\n",
    "    - Please provide the answer in points or a list format where appropriate.\n",
    "    Answer: <|eot_id|><|start_header_id|>assistant<|end_header_id|>\"\"\",\n",
    "    input_variables=[\"question\", \"document\"],\n",
    ")\n",
    "\n",
    "llm = ChatOllama(model=local_llm, temperature=0)\n",
    "\n",
    "\n",
    "# Post-processing\n",
    "def format_docs(docs):\n",
    "    return \"\\n\\n\".join(doc.page_content for doc in docs)\n",
    "\n",
    "\n",
    "# Chain\n",
    "rag_chain = prompt | llm | StrOutputParser()"
   ]
  },
  {
   "cell_type": "code",
   "execution_count": 34,
   "id": "821ea3c0",
   "metadata": {},
   "outputs": [],
   "source": [
    "### Search\n",
    "web_search_tool = TavilySearchResults(k=3)"
   ]
  },
  {
   "cell_type": "code",
   "execution_count": 35,
   "id": "23b4418e",
   "metadata": {},
   "outputs": [],
   "source": [
    "#create graph functions\n",
    "from pprint import pprint\n",
    "from typing import List, Dict, Any\n",
    "\n",
    "from langchain_core.documents import Document\n",
    "from typing_extensions import TypedDict\n",
    "\n",
    "from langgraph.graph import END, StateGraph\n",
    "\n",
    "\n",
    "\n",
    "class GraphState(TypedDict):\n",
    "    \"\"\"\n",
    "    Represents the state of our graph.\n",
    "\n",
    "    Attributes:\n",
    "        question: question\n",
    "        generation: LLM generation\n",
    "        web_search: whether to add search\n",
    "        documents: list of documents\n",
    "    \"\"\"\n",
    "\n",
    "    question: str\n",
    "    generation: str\n",
    "    web_search: str\n",
    "    documents: List[str]\n",
    "    retrieval_model: Any\n",
    "    \n",
    "\n",
    "\n",
    "### Nodes\n",
    "def tech_retrieve(state):\n",
    "    \"\"\"\n",
    "    Retrieve documents from vectorstore\n",
    "\n",
    "    Args:\n",
    "        state (dict): The current graph state\n",
    "\n",
    "    Returns:\n",
    "        state (dict): New key added to state, documents, that contains retrieved documents\n",
    "    \"\"\"\n",
    "    print(\"---RETRIEVE---\")\n",
    "    question = state[\"question\"]\n",
    "\n",
    "    # Retrieval\n",
    "    documents = pg_retriever.invoke(question)\n",
    "    return {\"documents\": documents, \"question\": question, \"retrieval_model\":pg_retriever}\n",
    "\n",
    "def service_retrieve(state):\n",
    "    \"\"\"\n",
    "    Retrieve documents from vectorstore\n",
    "\n",
    "    Args:\n",
    "        state (dict): The current graph state\n",
    "\n",
    "    Returns:\n",
    "        state (dict): New key added to state, documents, that contains retrieved documents\n",
    "    \"\"\"\n",
    "    print(\"---RETRIEVE---\")\n",
    "    question = state[\"question\"]\n",
    "\n",
    "    # Retrieval\n",
    "    documents = qdrnt_retriever.invoke(question)\n",
    "    return {\"documents\": documents, \"question\": question, \"retrieval_model\":qdrnt_retriever }\n",
    "\n",
    "def web_search(state):\n",
    "    \"\"\"\n",
    "    Web search based based on the question\n",
    "\n",
    "    Args:\n",
    "        state (dict): The current graph state\n",
    "\n",
    "    Returns:\n",
    "        state (dict): Appended web results to documents\n",
    "    \"\"\"\n",
    "\n",
    "    print(\"---WEB SEARCH---\")\n",
    "    question = state[\"question\"]\n",
    "    documents = state[\"documents\"]\n",
    "\n",
    "    # Web search\n",
    "    docs = web_search_tool.invoke({\"query\": question})\n",
    "    web_results = \"\\n\".join([d[\"content\"] for d in docs])\n",
    "    web_results = Document(page_content=web_results)\n",
    "    if documents is not None:\n",
    "        documents.append(web_results)\n",
    "    else:\n",
    "        documents = [web_results]\n",
    "    return {\"documents\": documents, \"question\": question}\n",
    "\n",
    "def grade_documents(state):\n",
    "    \n",
    "    \"\"\"\n",
    "    Determines whether the retrieved documents are relevant to the question\n",
    "    If any document is not relevant, we will set a flag to run web search\n",
    "\n",
    "    Args:\n",
    "        state (dict): The current graph state\n",
    "\n",
    "    Returns:\n",
    "        state (dict): Filtered out irrelevant documents and updated web_search state\n",
    "    \"\"\"\n",
    "\n",
    "    print(\"---CHECK DOCUMENT RELEVANCE TO QUESTION---\")\n",
    "    question = state[\"question\"]\n",
    "    documents = state[\"documents\"]\n",
    "    \n",
    "    # Score each doc\n",
    "    filtered_docs = []\n",
    "    web_search = \"No\"\n",
    "    for d in documents:\n",
    "        score = retrieval_grader.invoke(\n",
    "            {\"question\": question, \"document\": d.page_content}\n",
    "        )\n",
    "        grade = score[\"score\"]\n",
    "        # Document relevant\n",
    "        if grade.lower() == \"yes\":\n",
    "            print(\"---GRADE: DOCUMENT RELEVANT---\")\n",
    "            filtered_docs.append(d)\n",
    "        # Document not relevant\n",
    "        else:\n",
    "            print(\"---GRADE: DOCUMENT NOT RELEVANT---\")\n",
    "            # We do not include the document in filtered_docs\n",
    "            # We set a flag to indicate that we want to run web search\n",
    "            web_search = \"Yes\"\n",
    "            continue\n",
    "    return {\"documents\": filtered_docs, \"question\": question, \"web_search\": web_search}\n",
    "\n",
    "def generate(state):\n",
    "    \"\"\"\n",
    "    Generate answer using RAG on retrieved documents\n",
    "\n",
    "    Args:\n",
    "        state (dict): The current graph state\n",
    "\n",
    "    Returns:\n",
    "        state (dict): New key added to state, generation, that contains LLM generation\n",
    "    \"\"\"\n",
    "    print(\"---GENERATE---\")\n",
    "    question = state[\"question\"]\n",
    "    documents = state[\"documents\"]\n",
    "\n",
    "    # RAG generation\n",
    "    generation = rag_chain.invoke({\"context\": documents, \"question\": question})\n",
    "    return {\"documents\": documents, \"question\": question, \"generation\": generation}\n",
    "\n",
    "\n",
    "\n",
    "## Conditional edge\n",
    "\n",
    "\n",
    "def route_question(state):\n",
    "    \"\"\"\n",
    "    Route question to RAG.\n",
    "\n",
    "    Args:\n",
    "        state (dict): The current graph state\n",
    "\n",
    "    Returns:\n",
    "        str: Next node to call\n",
    "    \"\"\"\n",
    "    print(\"---ROUTE QUESTION---\")\n",
    "    question = state[\"question\"]\n",
    "    retrieval_model = state[\"retrieval_model\"]\n",
    "    print(\"retrieval_model\",retrieval_model)\n",
    "    print(question)\n",
    "    source = rl(question).name\n",
    "    print(source)\n",
    "\n",
    "    if source == \"tech_doc\":\n",
    "        print(\"---ROUTE QUESTION TO software rag---\")\n",
    "        return \"tech\"\n",
    "    elif source == \"customer_service\":\n",
    "        print(\"---ROUTE QUESTION TO customer service RAG---\")\n",
    "        return \"service\"\n",
    "    else:\n",
    "        print(\"---ROUTE QUESTION TO WEB SEARCH---\")\n",
    "        return \"websearch\"\n",
    "        \n",
    "\n",
    "def decide_to_generate(state):\n",
    "    \"\"\"\n",
    "    Determines whether to generate an answer, or add web search\n",
    "\n",
    "    Args:\n",
    "        state (dict): The current graph state\n",
    "\n",
    "    Returns:\n",
    "        str: Binary decision for next node to call\n",
    "    \"\"\"\n",
    "\n",
    "    print(\"---ASSESS GRADED DOCUMENTS---\")\n",
    "    state[\"question\"]\n",
    "    web_search = state[\"web_search\"]\n",
    "    state[\"documents\"]\n",
    "\n",
    "    if web_search == \"Yes\":\n",
    "        # All documents have been filtered check_relevance\n",
    "        # We will re-generate a new query\n",
    "        print(\n",
    "            \"---DECISION: ALL DOCUMENTS ARE NOT RELEVANT TO QUESTION, INCLUDE WEB SEARCH---\"\n",
    "        )\n",
    "        return \"websearch\"\n",
    "    else:\n",
    "        # We have relevant documents, so generate answer\n",
    "        print(\"---DECISION: GENERATE---\")\n",
    "        return \"generate\"\n",
    "\n",
    "### Conditional edge\n",
    "\n",
    "\n",
    "def grade_generation_v_documents_and_question(state):\n",
    "    \"\"\"\n",
    "    Determines whether the generation is grounded in the document and answers question.\n",
    "\n",
    "    Args:\n",
    "        state (dict): The current graph state\n",
    "\n",
    "    Returns:\n",
    "        str: Decision for next node to call\n",
    "    \"\"\"\n",
    "    # Initialize custom dictionary if it does not exist\n",
    "\n",
    "    print(\"---CHECK HALLUCINATIONS---\")\n",
    "    question = state[\"question\"]\n",
    "    documents = state[\"documents\"]\n",
    "    generation = state[\"generation\"]\n",
    "    \n",
    "    score = hallucination_grader.invoke(\n",
    "        {\"documents\": documents, \"generation\": generation}\n",
    "    )\n",
    "    print(\"score\",score)\n",
    "    grade = score[\"score\"]\n",
    "\n",
    "    # Check hallucination\n",
    "    if grade == \"yes\":\n",
    "        print(\"---DECISION: GENERATION IS GROUNDED IN DOCUMENTS---\")\n",
    "        # Check question-answering\n",
    "        print(\"---GRADE GENERATION vs QUESTION---\")\n",
    "        score = answer_grader.invoke({\"question\": question, \"generation\": generation})\n",
    "        grade = score[\"score\"]\n",
    "        if grade == \"yes\":\n",
    "            print(\"---DECISION: GENERATION ADDRESSES QUESTION---\")\n",
    "            return \"useful\"\n",
    "        else:\n",
    "            print(\"---DECISION: GENERATION DOES NOT ADDRESS QUESTION---\")\n",
    "            return \"not useful\"\n",
    "    else:\n",
    "        pprint(\"---DECISION: GENERATION IS NOT GROUNDED IN DOCUMENTS, RE-TRY---\")\n",
    "        return \"not supported\"\n",
    "\n",
    "\n"
   ]
  },
  {
   "cell_type": "code",
   "execution_count": 36,
   "id": "6e5b6d13",
   "metadata": {},
   "outputs": [],
   "source": [
    "workflow = StateGraph(GraphState)\n",
    "workflow.add_node(\"websearch\", web_search)\n",
    "workflow.add_node(\"tech_retrieve\", tech_retrieve)  # retrieve\n",
    "workflow.add_node(\"service_retrieve\", service_retrieve)  # retrieve\n",
    "workflow.add_node(\"grade_documents\", grade_documents)  # grade documents\n",
    "workflow.add_node(\"generate\", generate)  # generatae"
   ]
  },
  {
   "cell_type": "code",
   "execution_count": 37,
   "id": "41b42412",
   "metadata": {},
   "outputs": [],
   "source": [
    "#graph build\n",
    "workflow.set_conditional_entry_point(\n",
    "    route_question,\n",
    "    {\n",
    "        \"tech\": \"tech_retrieve\",\n",
    "        \"service\": \"service_retrieve\",\n",
    "        \"websearch\": \"websearch\"\n",
    "    },\n",
    ")\n",
    "\n",
    "\n",
    "workflow.add_edge(\"tech_retrieve\", \"grade_documents\")\n",
    "workflow.add_edge(\"service_retrieve\", \"grade_documents\")\n",
    "\n",
    "workflow.add_conditional_edges(\n",
    "    \"grade_documents\",\n",
    "    decide_to_generate,\n",
    "    {\n",
    "        \"websearch\": \"websearch\",\n",
    "        \"generate\": \"generate\",\n",
    "    },\n",
    ")\n",
    "workflow.add_edge(\"websearch\", \"generate\")\n",
    "\n",
    "workflow.add_conditional_edges(\n",
    "    \"generate\",\n",
    "    grade_generation_v_documents_and_question,\n",
    "    {\n",
    "        \"not supported\": \"generate\",\n",
    "        \"useful\": END,\n",
    "        \"not useful\": \"websearch\",\n",
    "    },\n",
    ")"
   ]
  },
  {
   "cell_type": "code",
   "execution_count": 38,
   "id": "4caab67d",
   "metadata": {},
   "outputs": [
    {
     "name": "stdout",
     "output_type": "stream",
     "text": [
      "---ROUTE QUESTION---\n",
      "retrieval_model \n",
      "How can I check the status of my shipment?\n",
      "customer_service\n",
      "---ROUTE QUESTION TO customer service RAG---\n",
      "---RETRIEVE---\n",
      "'Finished running: service_retrieve:'\n",
      "---CHECK DOCUMENT RELEVANCE TO QUESTION---\n",
      "---GRADE: DOCUMENT RELEVANT---\n",
      "---ASSESS GRADED DOCUMENTS---\n",
      "---DECISION: GENERATE---\n",
      "'Finished running: grade_documents:'\n",
      "---GENERATE---\n",
      "---CHECK HALLUCINATIONS---\n",
      "score {'score': 'yes'}\n",
      "---DECISION: GENERATION IS GROUNDED IN DOCUMENTS---\n",
      "---GRADE GENERATION vs QUESTION---\n",
      "---DECISION: GENERATION ADDRESSES QUESTION---\n",
      "'Finished running: generate:'\n",
      "('To check the status of your shipment:\\n'\n",
      " '\\n'\n",
      " '• Once your order has shipped, you will receive a tracking number via '\n",
      " 'email.\\n'\n",
      " '• You can use this tracking number to track the status of your shipment on '\n",
      " 'our website.')\n"
     ]
    }
   ],
   "source": [
    "# Compile\n",
    "app = workflow.compile()\n",
    "\n",
    "# Test\n",
    "\n",
    "inputs = {\"question\": \"How can I check the status of my shipment?\",\"retrieval_model\":\"\"}\n",
    "for output in app.stream(inputs):\n",
    "    for key, value in output.items():\n",
    "        pprint(f\"Finished running: {key}:\")\n",
    "pprint(value[\"generation\"])"
   ]
  },
  {
   "cell_type": "code",
   "execution_count": 75,
   "id": "e99039ac",
   "metadata": {},
   "outputs": [
    {
     "name": "stdout",
     "output_type": "stream",
     "text": [
      "---ROUTE QUESTION---\n",
      "retrieval_model \n",
      "How do I download and set up Python?\n",
      "tech_doc\n",
      "---ROUTE QUESTION TO software rag---\n",
      "---RETRIEVE---\n",
      "'Finished running: tech_retrieve:'\n",
      "---CHECK DOCUMENT RELEVANCE TO QUESTION---\n",
      "---GRADE: DOCUMENT RELEVANT---\n",
      "---ASSESS GRADED DOCUMENTS---\n",
      "---DECISION: GENERATE---\n",
      "'Finished running: grade_documents:'\n",
      "---GENERATE---\n",
      "---CHECK HALLUCINATIONS---\n",
      "score {'score': 'yes'}\n",
      "---DECISION: GENERATION IS GROUNDED IN DOCUMENTS---\n",
      "---GRADE GENERATION vs QUESTION---\n",
      "---DECISION: GENERATION ADDRESSES QUESTION---\n",
      "'Finished running: generate:'\n",
      "('To download and set up Python, follow these steps:\\n'\n",
      " '\\n'\n",
      " '1. **Install Python**:\\n'\n",
      " '\\t* Download and install Python from the official website: '\n",
      " 'https://www.python.org/downloads/\\n'\n",
      " '2. **Verify the installation**: Once installed, open a command prompt or '\n",
      " 'terminal window and type `python --version` to verify that Python is '\n",
      " 'installed correctly.\\n'\n",
      " '\\n'\n",
      " \"That's it! You now have Python set up on your system.\")\n"
     ]
    }
   ],
   "source": [
    "app = workflow.compile()\n",
    "\n",
    "# Test\n",
    "\n",
    "inputs = {\"question\": \"How do I download and set up Python?\",\"retrieval_model\":\"\"}\n",
    "for output in app.stream(inputs):\n",
    "    for key, value in output.items():\n",
    "        pprint(f\"Finished running: {key}:\")\n",
    "pprint(value[\"generation\"])"
   ]
  },
  {
   "cell_type": "code",
   "execution_count": 39,
   "id": "01194d3a",
   "metadata": {},
   "outputs": [
    {
     "name": "stdout",
     "output_type": "stream",
     "text": [
      "---ROUTE QUESTION---\n",
      "retrieval_model \n",
      "What is capital of inida?\n",
      "None\n",
      "---ROUTE QUESTION TO WEB SEARCH---\n",
      "---WEB SEARCH---\n",
      "'Finished running: websearch:'\n",
      "---GENERATE---\n",
      "---CHECK HALLUCINATIONS---\n",
      "score {'score': 'yes'}\n",
      "---DECISION: GENERATION IS GROUNDED IN DOCUMENTS---\n",
      "---GRADE GENERATION vs QUESTION---\n",
      "---DECISION: GENERATION ADDRESSES QUESTION---\n",
      "'Finished running: generate:'\n",
      "'What is the capital of India?\\n\\nThe capital of India is New Delhi.'\n"
     ]
    }
   ],
   "source": [
    "app = workflow.compile()\n",
    "\n",
    "# Test\n",
    "\n",
    "inputs = {\"question\": \"What is capital of inida?\",\"retrieval_model\":\"\"}\n",
    "for output in app.stream(inputs):\n",
    "    for key, value in output.items():\n",
    "        pprint(f\"Finished running: {key}:\")\n",
    "pprint(value[\"generation\"])"
   ]
  },
  {
   "cell_type": "code",
   "execution_count": null,
   "id": "96a9d03c",
   "metadata": {},
   "outputs": [],
   "source": []
  }
 ],
 "metadata": {
  "kernelspec": {
   "display_name": "Python 3 (ipykernel)",
   "language": "python",
   "name": "python3"
  },
  "language_info": {
   "codemirror_mode": {
    "name": "ipython",
    "version": 3
   },
   "file_extension": ".py",
   "mimetype": "text/x-python",
   "name": "python",
   "nbconvert_exporter": "python",
   "pygments_lexer": "ipython3",
   "version": "3.11.5"
  }
 },
 "nbformat": 4,
 "nbformat_minor": 5
}
